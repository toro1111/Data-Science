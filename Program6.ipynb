{
  "nbformat": 4,
  "nbformat_minor": 0,
  "metadata": {
    "colab": {
      "provenance": [],
      "toc_visible": true
    },
    "kernelspec": {
      "name": "python3",
      "display_name": "Python 3"
    },
    "language_info": {
      "name": "python"
    }
  },
  "cells": [
    {
      "cell_type": "markdown",
      "source": [
        "# Create 2D arrays"
      ],
      "metadata": {
        "id": "tIEF9IJ3OVUS"
      }
    },
    {
      "cell_type": "code",
      "source": [
        "import numpy as np\n",
        "\n",
        "matrix1 = np.array([[1, 2, 3], [4, 5, 6], [7, 8, 9]])\n",
        "\n",
        "matrix2 = np.array([[9, 8, 7], [6, 5, 4], [3, 2, 1]])\n",
        "\n",
        "matrix_sum = matrix1 + matrix2\n",
        "\n",
        "matrix_diff = matrix1 - matrix2\n",
        "\n",
        "matrix_product = matrix1 * matrix2\n",
        "\n",
        "matrix_divide = matrix1 / matrix2\n",
        "\n",
        "matrix_multiply = np.dot(matrix1, matrix2)\n",
        "\n",
        "matrix1_transpose = np.transpose(matrix1)\n",
        "\n",
        "diagonal_sum = np.trace(matrix1)\n",
        "\n",
        "print(\"Matrix 1:\\n\", matrix1)\n",
        "\n",
        "print(\"Matrix 2:\\n\", matrix2)\n",
        "\n",
        "print(\"Matrix Sum:\\n\", matrix_sum)\n",
        "\n",
        "print(\"Matrix Difference:\\n\", matrix_diff)\n",
        "\n",
        "print(\"Matrix Element-wise Product:\\n\", matrix_product)\n",
        "\n",
        "print(\"Matrix Element-wise Division:\\n\", matrix_divide)\n",
        "\n",
        "print(\"Matrix Multiplication:\\n\", matrix_multiply)\n",
        "\n",
        "print(\"Transpose of Matrix 1:\\n\", matrix1_transpose)\n",
        "\n",
        "print(\"Sum of Diagonal Elements of Matrix 1:\", diagonal_sum)"
      ],
      "metadata": {
        "colab": {
          "base_uri": "https://localhost:8080/"
        },
        "id": "9IpAXNdWOjf-",
        "outputId": "a1230fe4-7379-4646-c198-917d987205fd"
      },
      "execution_count": 1,
      "outputs": [
        {
          "output_type": "stream",
          "name": "stdout",
          "text": [
            "Matrix 1:\n",
            " [[1 2 3]\n",
            " [4 5 6]\n",
            " [7 8 9]]\n",
            "Matrix 2:\n",
            " [[9 8 7]\n",
            " [6 5 4]\n",
            " [3 2 1]]\n",
            "Matrix Sum:\n",
            " [[10 10 10]\n",
            " [10 10 10]\n",
            " [10 10 10]]\n",
            "Matrix Difference:\n",
            " [[-8 -6 -4]\n",
            " [-2  0  2]\n",
            " [ 4  6  8]]\n",
            "Matrix Element-wise Product:\n",
            " [[ 9 16 21]\n",
            " [24 25 24]\n",
            " [21 16  9]]\n",
            "Matrix Element-wise Division:\n",
            " [[0.11111111 0.25       0.42857143]\n",
            " [0.66666667 1.         1.5       ]\n",
            " [2.33333333 4.         9.        ]]\n",
            "Matrix Multiplication:\n",
            " [[ 30  24  18]\n",
            " [ 84  69  54]\n",
            " [138 114  90]]\n",
            "Transpose of Matrix 1:\n",
            " [[1 4 7]\n",
            " [2 5 8]\n",
            " [3 6 9]]\n",
            "Sum of Diagonal Elements of Matrix 1: 15\n"
          ]
        }
      ]
    }
  ]
}