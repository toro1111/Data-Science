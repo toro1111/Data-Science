{
  "nbformat": 4,
  "nbformat_minor": 0,
  "metadata": {
    "colab": {
      "provenance": []
    },
    "kernelspec": {
      "name": "python3",
      "display_name": "Python 3"
    },
    "language_info": {
      "name": "python"
    }
  },
  "cells": [
    {
      "cell_type": "markdown",
      "source": [
        "# **Basic Array Operations**"
      ],
      "metadata": {
        "id": "z2Rj4_N410o0"
      }
    },
    {
      "cell_type": "code",
      "source": [],
      "metadata": {
        "id": "-PUrEAWfDYZC"
      },
      "execution_count": null,
      "outputs": []
    },
    {
      "cell_type": "code",
      "execution_count": null,
      "metadata": {
        "colab": {
          "base_uri": "https://localhost:8080/"
        },
        "id": "56kII75vz36I",
        "outputId": "8c6ce9c6-3f19-414c-f8eb-3ec55a9caa0f"
      },
      "outputs": [
        {
          "output_type": "stream",
          "name": "stdout",
          "text": [
            "Array from list:  [1 2 3 4 5]\n"
          ]
        }
      ],
      "source": [
        "import numpy as np)\n",
        "print(\"Array from list: \",array_from_list)\n",
        "array_from_list=np.array([1,2,3,4,5]"
      ]
    },
    {
      "cell_type": "code",
      "source": [
        "array_with_range=np.arange(10)\n",
        "print(\"Array with range: \",array_with_range)"
      ],
      "metadata": {
        "colab": {
          "base_uri": "https://localhost:8080/"
        },
        "id": "XDgNLSKa2JQT",
        "outputId": "8aae2bc0-9f92-4d35-d961-58fe5d432326"
      },
      "execution_count": null,
      "outputs": [
        {
          "output_type": "stream",
          "name": "stdout",
          "text": [
            "Array with range:  [0 1 2 3 4 5 6 7 8 9]\n"
          ]
        }
      ]
    },
    {
      "cell_type": "code",
      "source": [
        "zeroes_array=np.zeros((3,3))\n",
        "print(\"Array of zeroes: \\n\",zeroes_array)"
      ],
      "metadata": {
        "colab": {
          "base_uri": "https://localhost:8080/"
        },
        "id": "9wmTunH82aaM",
        "outputId": "e52aa4b0-3ec3-43c6-aa54-a534f6b0643e"
      },
      "execution_count": null,
      "outputs": [
        {
          "output_type": "stream",
          "name": "stdout",
          "text": [
            "Array of zeroes: \n",
            " [[0. 0. 0.]\n",
            " [0. 0. 0.]\n",
            " [0. 0. 0.]]\n"
          ]
        }
      ]
    },
    {
      "cell_type": "code",
      "source": [
        "ones_array=np.ones((2,5))\n",
        "print(\"Array of ones: \\n\",ones_array)"
      ],
      "metadata": {
        "colab": {
          "base_uri": "https://localhost:8080/"
        },
        "id": "9iTZ-bPs2d0T",
        "outputId": "fe34c9b0-518a-4c8e-eda1-43a2d7e07346"
      },
      "execution_count": null,
      "outputs": [
        {
          "output_type": "stream",
          "name": "stdout",
          "text": [
            "Array of ones: \n",
            " [[1. 1. 1. 1. 1.]\n",
            " [1. 1. 1. 1. 1.]]\n"
          ]
        }
      ]
    },
    {
      "cell_type": "markdown",
      "source": [
        "# **Array Operations**"
      ],
      "metadata": {
        "id": "MiB724fx2AGU"
      }
    },
    {
      "cell_type": "code",
      "source": [
        "import numpy as np\n",
        "a=np.array([1,2,3])\n",
        "b=np.array([4,5,6])"
      ],
      "metadata": {
        "id": "GM_w1JRe2o98"
      },
      "execution_count": null,
      "outputs": []
    },
    {
      "cell_type": "code",
      "source": [
        "add_result=np.add(a,b)\n",
        "print(\"Addition: \",add_result)"
      ],
      "metadata": {
        "colab": {
          "base_uri": "https://localhost:8080/"
        },
        "id": "3rENm8873Aq0",
        "outputId": "a310fd88-72db-4d7d-f391-d7e9f7d75373"
      },
      "execution_count": null,
      "outputs": [
        {
          "output_type": "stream",
          "name": "stdout",
          "text": [
            "Addition:  [5 7 9]\n"
          ]
        }
      ]
    },
    {
      "cell_type": "code",
      "source": [
        "sub_result = np.subtract(a, b)\n",
        "print(\"Subtraction:\", sub_result)"
      ],
      "metadata": {
        "id": "1I4eJ5SN3eML",
        "colab": {
          "base_uri": "https://localhost:8080/"
        },
        "outputId": "4199f53c-5ce6-4490-c323-f204fafadc0f"
      },
      "execution_count": null,
      "outputs": [
        {
          "output_type": "stream",
          "name": "stdout",
          "text": [
            "Subtraction: [-3 -3 -3]\n"
          ]
        }
      ]
    },
    {
      "cell_type": "code",
      "source": [
        "mul_result = np.multiply(a, b)\n",
        "print(\"Multiplication:\", mul_result)"
      ],
      "metadata": {
        "colab": {
          "base_uri": "https://localhost:8080/"
        },
        "id": "fbISDtPm4QvT",
        "outputId": "84102344-5d73-47af-8443-6d2bf397b4e4"
      },
      "execution_count": null,
      "outputs": [
        {
          "output_type": "stream",
          "name": "stdout",
          "text": [
            "Multiplication: [ 4 10 18]\n"
          ]
        }
      ]
    },
    {
      "cell_type": "code",
      "source": [
        "div_result = np.divide(a, b)\n",
        "\n",
        "print(\"Division:\", div_result)"
      ],
      "metadata": {
        "colab": {
          "base_uri": "https://localhost:8080/"
        },
        "id": "3BtvLaGv4Wnr",
        "outputId": "c6faf546-6a23-47d4-e4f6-cb6853ea7b5c"
      },
      "execution_count": null,
      "outputs": [
        {
          "output_type": "stream",
          "name": "stdout",
          "text": [
            "Division: [0.25 0.4  0.5 ]\n"
          ]
        }
      ]
    },
    {
      "cell_type": "markdown",
      "source": [
        "# **Array Reshaping**"
      ],
      "metadata": {
        "id": "h5OH0lSd4cZT"
      }
    },
    {
      "cell_type": "code",
      "source": [
        "import numpy as np\n",
        "\n",
        "array = np.arange(12)\n",
        "\n",
        "print(\"Original array:\", array)\n"
      ],
      "metadata": {
        "colab": {
          "base_uri": "https://localhost:8080/"
        },
        "id": "rcJFmA734e9D",
        "outputId": "ec5b7dc4-ec8f-4d2e-b4b1-14ed25b72f2b"
      },
      "execution_count": null,
      "outputs": [
        {
          "output_type": "stream",
          "name": "stdout",
          "text": [
            "Original array: [ 0  1  2  3  4  5  6  7  8  9 10 11]\n"
          ]
        }
      ]
    },
    {
      "cell_type": "code",
      "source": [
        "reshaped_array = array.reshape((3, 4))\n",
        "\n",
        "print(\"Reshaped to 3x4:n\", reshaped_array)"
      ],
      "metadata": {
        "colab": {
          "base_uri": "https://localhost:8080/"
        },
        "id": "Qs_3v_OX4pur",
        "outputId": "5db1e9ce-d4a4-47ec-a1e4-b6e50800b968"
      },
      "execution_count": null,
      "outputs": [
        {
          "output_type": "stream",
          "name": "stdout",
          "text": [
            "Reshaped to 3x4:n [[ 0  1  2  3]\n",
            " [ 4  5  6  7]\n",
            " [ 8  9 10 11]]\n"
          ]
        }
      ]
    },
    {
      "cell_type": "code",
      "source": [
        "reshaped_array_3d = array.reshape((2, 3, 2))\n",
        "\n",
        "print(\"Reshaped to 2x3x2:\\n\", reshaped_array_3d)\n"
      ],
      "metadata": {
        "colab": {
          "base_uri": "https://localhost:8080/"
        },
        "id": "cNRH7yeO4uRD",
        "outputId": "3abd04c9-5a03-4af1-f510-67231d9845b2"
      },
      "execution_count": null,
      "outputs": [
        {
          "output_type": "stream",
          "name": "stdout",
          "text": [
            "Reshaped to 2x3x2:\n",
            " [[[ 0  1]\n",
            "  [ 2  3]\n",
            "  [ 4  5]]\n",
            "\n",
            " [[ 6  7]\n",
            "  [ 8  9]\n",
            "  [10 11]]]\n"
          ]
        }
      ]
    },
    {
      "cell_type": "markdown",
      "source": [
        "# **Indexing and Slicing**"
      ],
      "metadata": {
        "id": "XhD_5HBu4vz7"
      }
    },
    {
      "cell_type": "code",
      "source": [
        "import numpy as np\n",
        "\n",
        "\n",
        "array_2d = np.array([[1, 2, 3], [4, 5, 6], [7, 8, 9]])\n",
        "\n",
        "print(\"2D Array:In\", array_2d)"
      ],
      "metadata": {
        "colab": {
          "base_uri": "https://localhost:8080/"
        },
        "id": "vR2KmFMi40dK",
        "outputId": "22144f98-0bc5-4e14-8ae1-d531ba383759"
      },
      "execution_count": null,
      "outputs": [
        {
          "output_type": "stream",
          "name": "stdout",
          "text": [
            "2D Array:In [[1 2 3]\n",
            " [4 5 6]\n",
            " [7 8 9]]\n"
          ]
        }
      ]
    },
    {
      "cell_type": "code",
      "source": [
        "element=array_2d[1,2]\n",
        "print(\"Element at (1,2): \",element)"
      ],
      "metadata": {
        "colab": {
          "base_uri": "https://localhost:8080/"
        },
        "id": "QBTgqDzKjeXF",
        "outputId": "70ac713c-9d47-4e5a-ddb4-3e9555260fc8"
      },
      "execution_count": null,
      "outputs": [
        {
          "output_type": "stream",
          "name": "stdout",
          "text": [
            "Element at (1,2):  6\n"
          ]
        }
      ]
    },
    {
      "cell_type": "markdown",
      "source": [],
      "metadata": {
        "id": "e0AmLEVsDboh"
      }
    }
  ]
}