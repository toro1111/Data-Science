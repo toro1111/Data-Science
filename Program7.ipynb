{
  "nbformat": 4,
  "nbformat_minor": 0,
  "metadata": {
    "colab": {
      "provenance": []
    },
    "kernelspec": {
      "name": "python3",
      "display_name": "Python 3"
    },
    "language_info": {
      "name": "python"
    }
  },
  "cells": [
    {
      "cell_type": "markdown",
      "source": [
        "# **Indexing and Slicing**"
      ],
      "metadata": {
        "id": "MQ0_ghf_TixA"
      }
    },
    {
      "cell_type": "code",
      "source": [
        "import numpy as np;\n",
        "\n",
        "X = np.array([[1, 2],\n",
        "\n",
        "[3, 4]])\n",
        "\n",
        "Y = np.array([[5,6], [7,8]])\n",
        "\n",
        "print(\"Matrix X is :\\n \",X)\n",
        "\n",
        "print(\"Matrix Y is : \\n\",Y)\n",
        "\n",
        "a=np.power(X,2)\n",
        "\n",
        "print(\"X^2=\",a)\n",
        "\n",
        "result = a + 2 * Y\n",
        "\n",
        "print(\"X^2+2*Y is \\n \",result)"
      ],
      "metadata": {
        "colab": {
          "base_uri": "https://localhost:8080/"
        },
        "id": "Hv6ddUDATjO_",
        "outputId": "83b75e7d-1a4e-4f61-b4e6-ff04fea8ee8c"
      },
      "execution_count": 1,
      "outputs": [
        {
          "output_type": "stream",
          "name": "stdout",
          "text": [
            "Matrix X is :\n",
            "  [[1 2]\n",
            " [3 4]]\n",
            "Matrix Y is : \n",
            " [[5 6]\n",
            " [7 8]]\n",
            "X^2= [[ 1  4]\n",
            " [ 9 16]]\n",
            "X^2+2*Y is \n",
            "  [[11 16]\n",
            " [23 32]]\n"
          ]
        }
      ]
    }
  ]
}