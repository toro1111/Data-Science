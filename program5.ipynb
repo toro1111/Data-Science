{
  "nbformat": 4,
  "nbformat_minor": 0,
  "metadata": {
    "colab": {
      "provenance": []
    },
    "kernelspec": {
      "name": "python3",
      "display_name": "Python 3"
    },
    "language_info": {
      "name": "python"
    }
  },
  "cells": [
    {
      "cell_type": "markdown",
      "source": [
        "Statistical Operations"
      ],
      "metadata": {
        "id": "qDBjkBBGL2eS"
      }
    },
    {
      "cell_type": "code",
      "execution_count": 3,
      "metadata": {
        "colab": {
          "base_uri": "https://localhost:8080/"
        },
        "id": "t-zxcx_RLdYP",
        "outputId": "900eb09c-f50b-4873-f856-7f855aee818b"
      },
      "outputs": [
        {
          "output_type": "stream",
          "name": "stdout",
          "text": [
            "Mean: 5.5\n"
          ]
        }
      ],
      "source": [
        "import numpy as np\n",
        "array = np.array([1, 2, 3, 4, 5, 6, 7, 8, 9, 10])\n",
        "\n",
        "mean = np.mean(array)\n",
        "\n",
        "print(\"Mean:\", mean)"
      ]
    },
    {
      "cell_type": "code",
      "source": [
        "\n",
        "median = np.median(array)\n",
        "\n",
        "print(\"Median:\", median)"
      ],
      "metadata": {
        "colab": {
          "base_uri": "https://localhost:8080/"
        },
        "id": "pB4kq2haMiIQ",
        "outputId": "a78f7952-bbbd-4a97-e459-1b172cfd3056"
      },
      "execution_count": 4,
      "outputs": [
        {
          "output_type": "stream",
          "name": "stdout",
          "text": [
            "Median: 5.5\n"
          ]
        }
      ]
    },
    {
      "cell_type": "code",
      "source": [
        "\n",
        "std_dev = np.std(array)\n",
        "\n",
        "print(\"Standard Deviation:\", std_dev)\n"
      ],
      "metadata": {
        "colab": {
          "base_uri": "https://localhost:8080/"
        },
        "id": "eLKvXLLnMvXP",
        "outputId": "7cefceba-3aa1-4a85-a9d6-57942cfeb7ee"
      },
      "execution_count": 5,
      "outputs": [
        {
          "output_type": "stream",
          "name": "stdout",
          "text": [
            "Standard Deviation: 2.8722813232690143\n"
          ]
        }
      ]
    },
    {
      "cell_type": "code",
      "source": [
        "\n",
        "min_val = np.min(array)\n",
        "\n",
        "max_val = np.max(array)\n",
        "\n",
        "print(\"Minimum value:\", min_val)\n",
        "\n",
        "print(\"Maximum value:\", max_val)"
      ],
      "metadata": {
        "colab": {
          "base_uri": "https://localhost:8080/"
        },
        "id": "cP-ZJQUhM2mu",
        "outputId": "86bab32a-df35-451b-f5c2-11ea14df50a5"
      },
      "execution_count": 6,
      "outputs": [
        {
          "output_type": "stream",
          "name": "stdout",
          "text": [
            "Minimum value: 1\n",
            "Maximum value: 10\n"
          ]
        }
      ]
    }
  ]
}