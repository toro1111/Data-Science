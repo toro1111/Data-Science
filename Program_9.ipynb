{
  "nbformat": 4,
  "nbformat_minor": 0,
  "metadata": {
    "colab": {
      "provenance": []
    },
    "kernelspec": {
      "name": "python3",
      "display_name": "Python 3"
    },
    "language_info": {
      "name": "python"
    }
  },
  "cells": [
    {
      "cell_type": "markdown",
      "source": [
        "# Matrix **Equation**"
      ],
      "metadata": {
        "id": "Ztokxx-NXf0p"
      }
    },
    {
      "cell_type": "code",
      "source": [
        "import numpy as np\n",
        "A = np.array([[2, 1,-2],[3,0,1],[1,1,-1]])\n",
        "b = np.array([-3,5,-2])\n",
        "X = np.linalg.solve(A, b)\n",
        "print(\"Matrix A:\")\n",
        "print(A)\n",
        "print(\"Vector b:\")\n",
        "print(b)\n",
        "print(\"Solution for X:\")\n",
        "print(X)"
      ],
      "metadata": {
        "id": "6ohDp4KNXSgF"
      },
      "execution_count": null,
      "outputs": []
    }
  ]
}